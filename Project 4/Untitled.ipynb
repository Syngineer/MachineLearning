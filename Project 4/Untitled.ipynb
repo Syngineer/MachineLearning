{
 "cells": [
  {
   "cell_type": "code",
   "execution_count": 1,
   "metadata": {},
   "outputs": [],
   "source": [
    "from math import *\n",
    "d=lambda x,y:((x[0]-y[0])**2+(x[1]-y[1])**2)**0.5\n",
    "s=lambda A,B,C:(d(B,C), d(C,A), d(A,B))\n",
    "j=lambda a,b,c:acos((b*b+c*c-a*a)/(2*b*c))\n",
    "t=lambda a,b,c:1/cos(j(a,b,c)-pi/6)\n",
    "b=lambda A,B,C,p,q,r:[(p*A[i]+q*B[i]+r*C[i])/(p+q+r) for i in [0,1]] \n",
    "f=lambda A,B,C:A if j(*s(A,B,C)) >= 2*pi/3 else B if j(*s(B,C,A)) >= 2*pi/3 else C if j(*s(C,A,B)) >= 2*pi/3 else b(A,B,C,d(B,C)*t(*s(A,B,C)),d(C,A)*t(*s(B,C,A)),d(A,B)*t(*s(C,A,B)))"
   ]
  },
  {
   "cell_type": "code",
   "execution_count": 2,
   "metadata": {},
   "outputs": [],
   "source": [
    "from math import *\n",
    "#distance between two points\n",
    "d = lambda x,y: ((x[0]-y[0])**2+(x[1]-y[1])**2)**0.5\n",
    "\n",
    "#given the points, returns the sides \n",
    "s = lambda A,B,C : (d(B,C), d(C,A), d(A,B))\n",
    "\n",
    "#given the sides, returns the angle\n",
    "j = lambda a,b,c : acos((b*b+c*c-a*a)/(2*b*c))\n",
    "\n",
    "#given the sides, returns secant of that angle\n",
    "t = lambda a,b,c: 1/cos(j(a,b,c)-pi/6)\n",
    "\n",
    "#given the sides and the Trilinear co-ordinates, returns the Cartesian co-ordinates\n",
    "b = lambda A,B,C,p,q,r: [(p*A[i]+q*B[i]+r*C[i])/(p+q+r) for i in [0,1]] \n",
    "\n",
    "#this one checks if any of the angle is >= 2π/3 returns that point else computes the point\n",
    "f = lambda A,B,C: A if j(*s(A,B,C)) >= 2*pi/3 else B if j(*s(B,C,A)) >= 2*pi/3 else C if j(*s(C,A,B)) >= 2*pi/3 else b(A,B,C,d(B,C)*t(*s(A,B,C)),d(C,A)*t(*s(B,C,A)),d(A,B)*t(*s(C,A,B)))\n",
    "\n",
    "\n"
   ]
  },
  {
   "cell_type": "code",
   "execution_count": 4,
   "metadata": {},
   "outputs": [
    {
     "name": "stdout",
     "output_type": "stream",
     "text": [
      "[1.2113248654051871, 1.7886751345948129]\n",
      "[-1, -1]\n",
      "[0.0, -0.4226497308103743]\n",
      "[0, 0]\n",
      "[0, 0]\n"
     ]
    }
   ],
   "source": [
    "print('{}'.format(f([1, 1], [2, 2], [1, 2])))\n",
    "print('{}'.format(f([-1, -1], [-2, -1], [0, 0])))\n",
    "print('{}'.format(f([-1, -1], [1, -1], [0, 1])))\n",
    "print('{}'.format(f([0, 0], [0.5, 0.8660254037844386], [-5, 0])))\n",
    "print('{}'.format(f([0, 0], [0, -5], [-0.8660254037844386, 0.5])))"
   ]
  },
  {
   "cell_type": "code",
   "execution_count": 91,
   "metadata": {},
   "outputs": [],
   "source": [
    "from math import *\n",
    "def find_min_point(x1,y1,x2,y2,x3,y3):\n",
    "    \n",
    "    \n",
    "    result=[]*2\n",
    "    a = x1 * (y2 - y3) + x2 * (y3 - y1) + x3 * (y1 - y2) \n",
    "  \n",
    "    if (a== 0): \n",
    "        result[0]=None\n",
    "        result[1]=None\n",
    "    else: \n",
    "        A=[x1,y1]\n",
    "        B=[x2,y2]\n",
    "        C=[x3,y3]\n",
    "    \n",
    "        #distance between two points\n",
    "        d = lambda x,y: ((x[0]-y[0])**2+(x[1]-y[1])**2)**0.5\n",
    "        \n",
    "        #given the points, returns the sides \n",
    "        s = lambda A,B,C : (d(B,C), d(C,A), d(A,B))\n",
    "        \n",
    "        #given the sides, returns the angle\n",
    "        j = lambda a,b,c : acos((b*b+c*c-a*a)/(2*b*c))\n",
    "        \n",
    "        #given the sides, returns secant of that angle\n",
    "        t = lambda a,b,c: 1/cos(j(a,b,c)-pi/6)\n",
    "        \n",
    "        #given the sides and the Trilinear co-ordinates, returns the Cartesian co-ordinates\n",
    "        b = lambda A,B,C,p,q,r: [(p*A[i]+q*B[i]+r*C[i])/(p+q+r) for i in [0,1]] \n",
    "        \n",
    "        #this one checks if any of the angle is >= 2π/3 returns that point else computes the point\n",
    "        f = lambda A,B,C: A if j(*s(A,B,C)) >= 2*pi/3 else B if j(*s(B,C,A)) >= 2*pi/3 else C if j(*s(C,A,B)) >= 2*pi/3 else b(A,B,C,d(B,C)*t(*s(A,B,C)),d(C,A)*t(*s(B,C,A)),d(A,B)*t(*s(C,A,B)))\n",
    "        \n",
    "        l=f(A,B,C)#l=f\n",
    "        #result=[]\n",
    "        for i in l: \n",
    "             result.append(int(round(i)))               \n",
    "        return result\n",
    "    #return l\n",
    "    #print('{}'.format(f([0, 0], [1, 0], [1, 1])))\n",
    "    "
   ]
  },
  {
   "cell_type": "code",
   "execution_count": 53,
   "metadata": {},
   "outputs": [
    {
     "name": "stdout",
     "output_type": "stream",
     "text": [
      "1\n",
      "0.0\n"
     ]
    }
   ],
   "source": [
    "ls=f([0, 0], [1, 0], [1, 1])\n",
    "xd=round(ls[0])   \n",
    "yd=round(ls[1])\n",
    "print(int(xd))\n",
    "print(yd)"
   ]
  },
  {
   "cell_type": "code",
   "execution_count": 92,
   "metadata": {},
   "outputs": [
    {
     "ename": "IndexError",
     "evalue": "list assignment index out of range",
     "output_type": "error",
     "traceback": [
      "\u001b[0;31m---------------------------------------------------------------------------\u001b[0m",
      "\u001b[0;31mIndexError\u001b[0m                                Traceback (most recent call last)",
      "\u001b[0;32m<ipython-input-92-c2c972bab4d3>\u001b[0m in \u001b[0;36m<module>\u001b[0;34m()\u001b[0m\n\u001b[0;32m----> 1\u001b[0;31m \u001b[0mres\u001b[0m \u001b[0;34m=\u001b[0m \u001b[0mfind_min_point\u001b[0m\u001b[0;34m(\u001b[0m\u001b[0;36m1\u001b[0m\u001b[0;34m,\u001b[0m\u001b[0;36m1\u001b[0m\u001b[0;34m,\u001b[0m\u001b[0;36m1\u001b[0m\u001b[0;34m,\u001b[0m\u001b[0;36m1\u001b[0m\u001b[0;34m,\u001b[0m\u001b[0;36m1\u001b[0m\u001b[0;34m,\u001b[0m\u001b[0;36m1\u001b[0m\u001b[0;34m)\u001b[0m\u001b[0;34m\u001b[0m\u001b[0m\n\u001b[0m\u001b[1;32m      2\u001b[0m \u001b[0;34m\u001b[0m\u001b[0m\n",
      "\u001b[0;32m<ipython-input-91-3c06e09f56ad>\u001b[0m in \u001b[0;36mfind_min_point\u001b[0;34m(x1, y1, x2, y2, x3, y3)\u001b[0m\n\u001b[1;32m      7\u001b[0m \u001b[0;34m\u001b[0m\u001b[0m\n\u001b[1;32m      8\u001b[0m     \u001b[0;32mif\u001b[0m \u001b[0;34m(\u001b[0m\u001b[0ma\u001b[0m\u001b[0;34m==\u001b[0m \u001b[0;36m0\u001b[0m\u001b[0;34m)\u001b[0m\u001b[0;34m:\u001b[0m\u001b[0;34m\u001b[0m\u001b[0m\n\u001b[0;32m----> 9\u001b[0;31m         \u001b[0mresult\u001b[0m\u001b[0;34m[\u001b[0m\u001b[0;36m0\u001b[0m\u001b[0;34m]\u001b[0m\u001b[0;34m=\u001b[0m\u001b[0mNone\u001b[0m\u001b[0;34m\u001b[0m\u001b[0m\n\u001b[0m\u001b[1;32m     10\u001b[0m         \u001b[0mresult\u001b[0m\u001b[0;34m[\u001b[0m\u001b[0;36m1\u001b[0m\u001b[0;34m]\u001b[0m\u001b[0;34m=\u001b[0m\u001b[0mNone\u001b[0m\u001b[0;34m\u001b[0m\u001b[0m\n\u001b[1;32m     11\u001b[0m     \u001b[0;32melse\u001b[0m\u001b[0;34m:\u001b[0m\u001b[0;34m\u001b[0m\u001b[0m\n",
      "\u001b[0;31mIndexError\u001b[0m: list assignment index out of range"
     ]
    }
   ],
   "source": [
    "res = find_min_point(1,1,1,1,1,1)\n",
    "\n"
   ]
  },
  {
   "cell_type": "code",
   "execution_count": 88,
   "metadata": {},
   "outputs": [
    {
     "name": "stdout",
     "output_type": "stream",
     "text": [
      "None\n"
     ]
    }
   ],
   "source": [
    "\n",
    "print(res)\n"
   ]
  },
  {
   "cell_type": "code",
   "execution_count": null,
   "metadata": {},
   "outputs": [],
   "source": []
  }
 ],
 "metadata": {
  "kernelspec": {
   "display_name": "Python 2",
   "language": "python",
   "name": "python2"
  },
  "language_info": {
   "codemirror_mode": {
    "name": "ipython",
    "version": 2
   },
   "file_extension": ".py",
   "mimetype": "text/x-python",
   "name": "python",
   "nbconvert_exporter": "python",
   "pygments_lexer": "ipython2",
   "version": "2.7.15"
  }
 },
 "nbformat": 4,
 "nbformat_minor": 2
}
